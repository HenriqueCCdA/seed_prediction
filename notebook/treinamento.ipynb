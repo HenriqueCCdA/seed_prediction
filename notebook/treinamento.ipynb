{
 "cells": [
  {
   "cell_type": "code",
   "execution_count": 2,
   "id": "9524112e-dc7e-4d8d-8bcd-3a048b44d108",
   "metadata": {},
   "outputs": [],
   "source": [
    "import pandas as pd\n",
    "import torch\n",
    "import torch.nn as nn\n",
    "import torch.nn.functional as F\n",
    "from sklearn.model_selection import train_test_split"
   ]
  },
  {
   "cell_type": "markdown",
   "id": "82f9a44e-b26e-46d1-a0a0-6ed7058d44fd",
   "metadata": {},
   "source": [
    "# Lendo os dados"
   ]
  },
  {
   "cell_type": "code",
   "execution_count": 3,
   "id": "7cddcd63-33ef-497f-b761-337f06f225ea",
   "metadata": {},
   "outputs": [
    {
     "data": {
      "text/html": [
       "<div>\n",
       "<style scoped>\n",
       "    .dataframe tbody tr th:only-of-type {\n",
       "        vertical-align: middle;\n",
       "    }\n",
       "\n",
       "    .dataframe tbody tr th {\n",
       "        vertical-align: top;\n",
       "    }\n",
       "\n",
       "    .dataframe thead th {\n",
       "        text-align: right;\n",
       "    }\n",
       "</style>\n",
       "<table border=\"1\" class=\"dataframe\">\n",
       "  <thead>\n",
       "    <tr style=\"text-align: right;\">\n",
       "      <th></th>\n",
       "      <th>Área</th>\n",
       "      <th>Perímetro</th>\n",
       "      <th>Compacidade</th>\n",
       "      <th>Comprimento</th>\n",
       "      <th>Largura</th>\n",
       "      <th>Assimetria</th>\n",
       "      <th>Comprimento do sulco</th>\n",
       "      <th>Espécie</th>\n",
       "    </tr>\n",
       "  </thead>\n",
       "  <tbody>\n",
       "    <tr>\n",
       "      <th>0</th>\n",
       "      <td>15.26</td>\n",
       "      <td>14.84</td>\n",
       "      <td>871.000</td>\n",
       "      <td>5.763</td>\n",
       "      <td>3.312</td>\n",
       "      <td>2.221</td>\n",
       "      <td>5.220</td>\n",
       "      <td>0</td>\n",
       "    </tr>\n",
       "    <tr>\n",
       "      <th>1</th>\n",
       "      <td>14.88</td>\n",
       "      <td>14.57</td>\n",
       "      <td>8.811</td>\n",
       "      <td>5.554</td>\n",
       "      <td>3.333</td>\n",
       "      <td>1.018</td>\n",
       "      <td>4.956</td>\n",
       "      <td>0</td>\n",
       "    </tr>\n",
       "    <tr>\n",
       "      <th>2</th>\n",
       "      <td>14.29</td>\n",
       "      <td>14.09</td>\n",
       "      <td>905.000</td>\n",
       "      <td>5.291</td>\n",
       "      <td>3.337</td>\n",
       "      <td>2.699</td>\n",
       "      <td>4.825</td>\n",
       "      <td>0</td>\n",
       "    </tr>\n",
       "    <tr>\n",
       "      <th>3</th>\n",
       "      <td>13.84</td>\n",
       "      <td>13.94</td>\n",
       "      <td>8.955</td>\n",
       "      <td>5.324</td>\n",
       "      <td>3.379</td>\n",
       "      <td>2.259</td>\n",
       "      <td>4.805</td>\n",
       "      <td>0</td>\n",
       "    </tr>\n",
       "    <tr>\n",
       "      <th>4</th>\n",
       "      <td>16.14</td>\n",
       "      <td>14.99</td>\n",
       "      <td>9.034</td>\n",
       "      <td>5.658</td>\n",
       "      <td>3.562</td>\n",
       "      <td>1.355</td>\n",
       "      <td>5.175</td>\n",
       "      <td>0</td>\n",
       "    </tr>\n",
       "  </tbody>\n",
       "</table>\n",
       "</div>"
      ],
      "text/plain": [
       "    Área  Perímetro  Compacidade  Comprimento  Largura  Assimetria  \\\n",
       "0  15.26      14.84      871.000        5.763    3.312       2.221   \n",
       "1  14.88      14.57        8.811        5.554    3.333       1.018   \n",
       "2  14.29      14.09      905.000        5.291    3.337       2.699   \n",
       "3  13.84      13.94        8.955        5.324    3.379       2.259   \n",
       "4  16.14      14.99        9.034        5.658    3.562       1.355   \n",
       "\n",
       "   Comprimento do sulco  Espécie  \n",
       "0                 5.220        0  \n",
       "1                 4.956        0  \n",
       "2                 4.825        0  \n",
       "3                 4.805        0  \n",
       "4                 5.175        0  "
      ]
     },
     "execution_count": 3,
     "metadata": {},
     "output_type": "execute_result"
    }
   ],
   "source": [
    "dados = pd.read_csv(\"dataset/sementes.csv\")\n",
    "\n",
    "dados.head()"
   ]
  },
  {
   "cell_type": "code",
   "execution_count": 4,
   "id": "95bc9d8a-2b27-462d-8247-dc8ca9b889fb",
   "metadata": {},
   "outputs": [
    {
     "name": "stdout",
     "output_type": "stream",
     "text": [
      "Linas 210\n",
      "Colunas 8\n",
      "Labels [0 1 2]\n"
     ]
    }
   ],
   "source": [
    "print(f\"Linas {dados.shape[0]}\")\n",
    "print(f\"Colunas {dados.shape[1]}\")\n",
    "print(f\"Labels {dados['Espécie'].unique()}\")"
   ]
  },
  {
   "cell_type": "markdown",
   "id": "17981825-a6c5-484f-9bac-252e144ed1ab",
   "metadata": {},
   "source": [
    "# Preparando os dados para o treinamento"
   ]
  },
  {
   "cell_type": "code",
   "execution_count": 5,
   "id": "da522de7-3889-4e37-b320-034f722825e7",
   "metadata": {},
   "outputs": [],
   "source": [
    "X = dados.drop([\"Espécie\"], axis=1).values\n",
    "y = dados[\"Espécie\"].values"
   ]
  },
  {
   "cell_type": "code",
   "execution_count": 6,
   "id": "9d3651c0-9b8a-4f06-833b-07c1a6ebc3d0",
   "metadata": {},
   "outputs": [],
   "source": [
    "X_treino, X_teste, y_treino, y_teste = train_test_split(X, y, test_size=0.2)"
   ]
  },
  {
   "cell_type": "code",
   "execution_count": 7,
   "id": "e3542cef-4e5a-4372-bf2f-2fdba5220ef5",
   "metadata": {},
   "outputs": [],
   "source": [
    "X_treino = torch.FloatTensor(X_treino)\n",
    "X_teste = torch.FloatTensor(X_teste)\n",
    "y_treino = torch.LongTensor(y_treino)\n",
    "y_teste = torch.LongTensor(y_teste)"
   ]
  },
  {
   "cell_type": "code",
   "execution_count": 8,
   "id": "8ed5ed9e-299a-49e4-bd0c-3086042b985a",
   "metadata": {},
   "outputs": [
    {
     "name": "stdout",
     "output_type": "stream",
     "text": [
      "X: 7\n"
     ]
    }
   ],
   "source": [
    "print(f\"X: {X_treino.shape[1]}\")"
   ]
  },
  {
   "cell_type": "markdown",
   "id": "d3a33308-b89a-476d-9bc7-a384db4868a4",
   "metadata": {},
   "source": [
    "# Criando a Rede"
   ]
  },
  {
   "cell_type": "code",
   "execution_count": 9,
   "id": "ec3594fe-c8c0-4ed2-b7e5-9bbe15c47a1d",
   "metadata": {},
   "outputs": [],
   "source": [
    "class Modelo(nn.Module):\n",
    "    def __init__(\n",
    "        self, \n",
    "        entrada=7, \n",
    "        camada_escondida1=14, \n",
    "        camada_escondida2=49,\n",
    "        saida=3\n",
    "    ):\n",
    "        super().__init__()\n",
    "        self.fc1 = nn.Linear(entrada, camada_escondida1)\n",
    "        self.fc2 = nn.Linear(camada_escondida1, camada_escondida2)\n",
    "        self.out = nn.Linear(camada_escondida2, saida)\n",
    "    \n",
    "    def forward(self, x):\n",
    "        x = F.relu(self.fc1(x))\n",
    "        x = F.relu(self.fc2(x))\n",
    "        x = self.out(x)\n",
    "        return x"
   ]
  },
  {
   "cell_type": "code",
   "execution_count": 10,
   "id": "fdc05f0c-df9e-473d-935c-8074f1e03ee0",
   "metadata": {},
   "outputs": [],
   "source": [
    "modelo_classificacao = Modelo()"
   ]
  },
  {
   "cell_type": "code",
   "execution_count": 11,
   "id": "fe02be69-2be6-478a-9e0f-5ec64ba2a23d",
   "metadata": {},
   "outputs": [],
   "source": [
    "funcao_objetivo = nn.CrossEntropyLoss()\n",
    "otimizador = torch.optim.Adam(modelo_classificacao.parameters(), lr=0.01)"
   ]
  },
  {
   "cell_type": "markdown",
   "id": "401b2233-b702-4ecb-88aa-183c484bfbf4",
   "metadata": {},
   "source": [
    "# Treinaamento"
   ]
  },
  {
   "cell_type": "code",
   "execution_count": 12,
   "id": "998eeb4f-5f2a-421b-81af-f43b6db83759",
   "metadata": {},
   "outputs": [
    {
     "name": "stdout",
     "output_type": "stream",
     "text": [
      "Loss: 2.615108e-01\n"
     ]
    }
   ],
   "source": [
    "epocas = 100\n",
    "custos = []\n",
    "\n",
    "for i in range(epocas):\n",
    "    y_predito = modelo_classificacao.forward(X_treino)\n",
    "    custo = funcao_objetivo(y_predito, y_treino)\n",
    "    custos.append(custo)\n",
    "\n",
    "    otimizador.zero_grad()\n",
    "    custo.backward()\n",
    "    otimizador.step()\n",
    "\n",
    "print(f\"Loss: {custos[-1]:e}\")"
   ]
  },
  {
   "cell_type": "code",
   "execution_count": 16,
   "id": "2f3535f7-c31c-4f27-a98e-47616d7104aa",
   "metadata": {},
   "outputs": [
    {
     "name": "stdout",
     "output_type": "stream",
     "text": [
      "85.71%\n"
     ]
    }
   ],
   "source": [
    "preds = []\n",
    "\n",
    "with torch.no_grad():\n",
    "    for val in X_teste:\n",
    "        y_predito = modelo_classificacao.forward(val)\n",
    "        preds.append(y_predito.argmax().item())\n",
    "\n",
    "df = pd.DataFrame({\"Y\": y_teste, \"YHat\": preds})\n",
    "\n",
    "df[\"correto\"] = [\n",
    "    1 \n",
    "    if corr == pred else 0 for corr, pred in zip(df[\"Y\"], df[\"YHat\"])\n",
    "]\n",
    "\n",
    "print(\"{:.2%}\".format(sum((df[\"correto\"] == 1)) / df.shape[0]))"
   ]
  },
  {
   "cell_type": "markdown",
   "id": "734984fe-03c7-4f34-8d89-bfeaf64013c8",
   "metadata": {},
   "source": [
    "# Salvando o modelo"
   ]
  },
  {
   "cell_type": "code",
   "execution_count": 17,
   "id": "88576d48-f8cf-476a-b21a-c58448c9e6fc",
   "metadata": {},
   "outputs": [],
   "source": [
    "torch.save(modelo_classificacao, \"modelo_treinado/modelo_classificacao.torch\")"
   ]
  },
  {
   "cell_type": "code",
   "execution_count": null,
   "id": "01c90566-cbf8-4e1d-977d-79a0e8c5e2b3",
   "metadata": {},
   "outputs": [],
   "source": []
  }
 ],
 "metadata": {
  "kernelspec": {
   "display_name": "Python 3 (ipykernel)",
   "language": "python",
   "name": "python3"
  },
  "language_info": {
   "codemirror_mode": {
    "name": "ipython",
    "version": 3
   },
   "file_extension": ".py",
   "mimetype": "text/x-python",
   "name": "python",
   "nbconvert_exporter": "python",
   "pygments_lexer": "ipython3",
   "version": "3.11.4"
  }
 },
 "nbformat": 4,
 "nbformat_minor": 5
}
